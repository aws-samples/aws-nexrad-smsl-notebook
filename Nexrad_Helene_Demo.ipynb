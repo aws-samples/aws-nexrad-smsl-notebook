{
 "cells": [
  {
   "cell_type": "markdown",
   "id": "bebb3140",
   "metadata": {},
   "source": [
    "<h1>An introduction to S3, Boto and Nexrad on S3</h1>"
   ]
  },
  {
   "cell_type": "markdown",
   "id": "be36a17d",
   "metadata": {},
   "source": [
    "<!--  Copyright Amazon.com, Inc. or its affiliates. All Rights Reserved. -->\n",
    "<!-- !-- SPDX-License-Identifier: MIT-0 -->\n",
    "\n",
    "Adapted from <a href=\"https://github.com/openradar/AMS_radar_in_the_cloud\">AMS Short Course</a> which was adapted and thanks to the <a href=\"https://eng.climate.com/2015/10/27/how-to-read-and-display-nexrad-on-aws-using-python/\">first tutorial</a> by Valliappa Lakshmanan, formerly at Climate Corp now at Google.\n",
    "\n",
    "<a href=\"https://aws.amazon.com/s3\">Amazon Simple Storage Service (Amazon S3)</a> is object storage with a simple web service interface to store and retrieve any amount of data from anywhere on the web. It is designed to deliver 99.999999999% durability, and scale past trillions of objects worldwide.\n",
    "\n",
    "<a href=\"https://github.com/boto/boto3\">Boto3</a> is a Python package that provides interfaces to Amazon Web Services."
   ]
  },
  {
   "cell_type": "code",
   "execution_count": null,
   "id": "3459194f-c959-47aa-bd42-c2849b16763d",
   "metadata": {},
   "outputs": [],
   "source": [
    "%pip install -q numpy matplotlib netcdf4 xarray scipy boto3 arm_pyart"
   ]
  },
  {
   "cell_type": "code",
   "execution_count": null,
   "id": "88f9b171",
   "metadata": {
    "tags": []
   },
   "outputs": [],
   "source": [
    "import boto3\n",
    "from datetime import timedelta, datetime\n",
    "import os\n",
    "import pyart\n",
    "from matplotlib import pyplot as plt\n",
    "import tempfile\n",
    "import numpy as np\n",
    "\n",
    "%matplotlib inline"
   ]
  },
  {
   "cell_type": "code",
   "execution_count": null,
   "id": "72f54797",
   "metadata": {
    "tags": []
   },
   "outputs": [],
   "source": [
    "from botocore import UNSIGNED\n",
    "from botocore.client import Config\n",
    "\n",
    "s3_client = boto3.client('s3', config=Config(signature_version=UNSIGNED))"
   ]
  },
  {
   "cell_type": "markdown",
   "id": "bad1368d",
   "metadata": {},
   "source": [
    "From https://aws.amazon.com/noaa-big-data/nexrad/ :\n",
    "\n",
    "The NEXRAD Level II archive data is hosted in the “noaa-nexrad-level2” Amazon S3 bucket in S3’s US East region. The address for the public bucket is:\n",
    "\n",
    "    http://noaa-nexrad-level2.s3.amazonaws.com\n",
    "\n",
    "    https://noaa-nexrad-level2.s3.amazonaws.com\n",
    "\n",
    "Each volume scan file is its own object in Amazon S3. The basic data format is the following:\n",
    "    /<Year>/<Month>/<Day>/<NEXRAD Station>/<filename>\n",
    "\n",
    "Where:\n",
    "\n",
    "    is the year the data was collected\n",
    "    is the month of the year the data was collected\n",
    "    is the day of the month the data was collected\n",
    "    is the NEXRAD ground station (map of ground stations)\n",
    "    is the name of the file containing the data. \n",
    "These are compressed files (compressed with gzip). The file name has more precise timestamp information.\n",
    "\n",
    "All files in the archive use the same compressed format (.gz). The data file names are, for example, KAKQ20010101_080138.gz. The file naming convention is:\n",
    "\n",
    "    GGGGYYYYMMDD_TTTTTT\n",
    "\n",
    "Where:\n",
    "\n",
    "    GGGG = Ground station ID (map of ground stations) \n",
    "    YYYY = year \n",
    "    MM = month \n",
    "    DD = day \n",
    "    TTTTTT = time when data started to be collected (GMT)\n",
    "\n",
    "Note that the 2015 files have an additional field on the file name. It adds “_V06” to the end of the file name. An example is KABX20150303_001050_V06.gz."
   ]
  },
  {
   "cell_type": "code",
   "execution_count": null,
   "id": "b16d69a2",
   "metadata": {
    "tags": []
   },
   "outputs": [],
   "source": [
    "my_pref = '2024/09/27/KTBW/' #KAMX\n",
    "keys = []\n",
    "\n",
    "paginator = s3_client.get_paginator('list_objects_v2')\n",
    "operation_parameters = {'Bucket': 'noaa-nexrad-level2',\n",
    "                        'Prefix': my_pref}\n",
    "page_iterator = paginator.paginate(**operation_parameters)\n",
    "for page in page_iterator:\n",
    "    for object in page['Contents']:\n",
    "        keys.append(object['Key'])\n",
    "        # print(object['Key'])"
   ]
  },
  {
   "cell_type": "code",
   "execution_count": null,
   "id": "2231cc46",
   "metadata": {
    "tags": []
   },
   "outputs": [],
   "source": [
    "from botocore.handlers import disable_signing\n",
    "\n",
    "home_dir = os.path.expanduser('~')\n",
    "\n",
    "s3 = boto3.resource('s3')\n",
    "s3.meta.client.meta.events.register('choose-signer.s3.*', disable_signing)\n",
    "s3.Object('noaa-nexrad-level2', keys[0]).download_file(os.path.join(home_dir,'nexrad_tempfile'))"
   ]
  },
  {
   "cell_type": "code",
   "execution_count": null,
   "id": "6ebf044a",
   "metadata": {
    "tags": []
   },
   "outputs": [],
   "source": [
    "radar = pyart.io.read(os.path.join(home_dir,'nexrad_tempfile'))"
   ]
  },
  {
   "cell_type": "code",
   "execution_count": null,
   "id": "927850b7",
   "metadata": {
    "tags": []
   },
   "outputs": [],
   "source": [
    "max_lat = 31\n",
    "min_lat = 24\n",
    "min_lon = -87\n",
    "max_lon = -80\n",
    "\n",
    "lal = np.arange(min_lat, max_lat, .5)\n",
    "lol = np.arange(min_lon, max_lon, .5)\n",
    "\n",
    "\n",
    "fig = plt.figure(figsize = [10,8])\n",
    "my_display = pyart.graph.RadarMapDisplay(radar)\n",
    "my_display.plot_ppi_map('reflectivity', sweep = 0, resolution = '110m',\n",
    "                    vmin = -12, vmax = 64, mask_outside = False,\n",
    "                    cmap = pyart.graph.cm.NWSRef,\n",
    "                    min_lat = min_lat, min_lon = min_lon,\n",
    "                    max_lat = max_lat, max_lon = max_lon,\n",
    "                    lat_lines = lal, lon_lines = lol)"
   ]
  },
  {
   "cell_type": "code",
   "execution_count": null,
   "id": "88f85458",
   "metadata": {},
   "outputs": [],
   "source": []
  }
 ],
 "metadata": {
  "kernelspec": {
   "display_name": ".conda-default:Python",
   "language": "python",
   "name": "conda-env-.conda-default-py"
  },
  "language_info": {
   "codemirror_mode": {
    "name": "ipython",
    "version": 3
   },
   "file_extension": ".py",
   "mimetype": "text/x-python",
   "name": "python",
   "nbconvert_exporter": "python",
   "pygments_lexer": "ipython3",
   "version": "3.9.19"
  }
 },
 "nbformat": 4,
 "nbformat_minor": 5
}
