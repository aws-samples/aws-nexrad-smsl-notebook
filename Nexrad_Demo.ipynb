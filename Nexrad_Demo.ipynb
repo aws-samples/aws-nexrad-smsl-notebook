{
 "cells": [
  {
   "cell_type": "markdown",
   "id": "bebb3140",
   "metadata": {},
   "source": [
    "<h1>An introduction to S3, Boto and Nexrad on S3</h1>"
   ]
  },
  {
   "attachments": {},
   "cell_type": "markdown",
   "id": "be36a17d",
   "metadata": {},
   "source": [
    "<!--  Copyright Amazon.com, Inc. or its affiliates. All Rights Reserved. -->\n",
    "<!-- !-- SPDX-License-Identifier: MIT-0 -->\n",
    "\n",
    "Adapted from <a href=\"https://github.com/openradar/AMS_radar_in_the_cloud\">AMS Short Course</a> which was adapted and thanks to the <a href=\"https://eng.climate.com/2015/10/27/how-to-read-and-display-nexrad-on-aws-using-python/\">first tutorial</a> by Valliappa Lakshmanan, formerly at Climate Corp now at Google.\n",
    "\n",
    "<a href=\"https://aws.amazon.com/s3\">Amazon Simple Storage Service (Amazon S3)</a> is object storage with a simple web service interface to store and retrieve any amount of data from anywhere on the web. It is designed to deliver 99.999999999% durability, and scale past trillions of objects worldwide.\n",
    "\n",
    "<a href=\"https://github.com/boto/boto3\">Boto3</a> is a Python package that provides interfaces to Amazon Web Services."
   ]
  },
  {
   "cell_type": "code",
   "execution_count": null,
   "id": "c49bcb45-c276-4b7f-85e3-93ab363ffe0f",
   "metadata": {},
   "outputs": [],
   "source": [
    "# %conda install -y -c conda-forge boto3\n",
    "%pip install --force-reinstall -v \"boto3==1.33\""
   ]
  },
  {
   "cell_type": "code",
   "execution_count": null,
   "metadata": {},
   "outputs": [],
   "source": [
    "%pip install --force-reinstall -v \"botocore==1.33.2\""
   ]
  },
  {
   "cell_type": "code",
   "execution_count": null,
   "id": "12e2892d",
   "metadata": {},
   "outputs": [],
   "source": [
    "# install a bunch of libraries into default conda environment\n",
    "# %conda install -y -c conda-forge arm_pyart\n",
    "%pip install arm-pyart"
   ]
  },
  {
   "cell_type": "code",
   "execution_count": null,
   "id": "bd298a1e",
   "metadata": {},
   "outputs": [],
   "source": [
    "# %conda install -y -c conda-forge boto\n",
    "# %pip install boto"
   ]
  },
  {
   "cell_type": "code",
   "execution_count": null,
   "id": "886fb7a2",
   "metadata": {},
   "outputs": [],
   "source": [
    "%conda install -y -c conda-forge cartopy"
   ]
  },
  {
   "cell_type": "code",
   "execution_count": null,
   "id": "2cd77ed0",
   "metadata": {},
   "outputs": [],
   "source": [
    "# restart the kernel\n",
    "%load_ext autoreload\n",
    "%autoreload 2"
   ]
  },
  {
   "cell_type": "code",
   "execution_count": null,
   "id": "88f9b171",
   "metadata": {},
   "outputs": [],
   "source": [
    "import boto3\n",
    "# from boto.s3.connection import S3Connection\n",
    "from datetime import timedelta, datetime\n",
    "import os\n",
    "import pyart\n",
    "from matplotlib import pyplot as plt\n",
    "import tempfile\n",
    "import numpy as np\n",
    "\n",
    "%matplotlib inline"
   ]
  },
  {
   "cell_type": "code",
   "execution_count": 4,
   "id": "72f54797",
   "metadata": {},
   "outputs": [],
   "source": [
    "# conn = S3Connection(anon = True)\n",
    "# bucket = conn.get_bucket('noaa-nexrad-level2')\n",
    "\n",
    "# boto3 way\n",
    "from botocore import UNSIGNED\n",
    "from botocore.client import Config\n",
    "\n",
    "s3 = boto3.resource('s3', config=Config(signature_version=UNSIGNED))\n",
    "bucket_name = 'noaa-nexrad-level2'\n",
    "bucket = s3.Bucket(bucket_name)"
   ]
  },
  {
   "cell_type": "markdown",
   "id": "bad1368d",
   "metadata": {},
   "source": [
    "From https://aws.amazon.com/noaa-big-data/nexrad/ :\n",
    "\n",
    "The NEXRAD Level II archive data is hosted in the “noaa-nexrad-level2” Amazon S3 bucket in S3’s US East region. The address for the public bucket is:\n",
    "\n",
    "    http://noaa-nexrad-level2.s3.amazonaws.com\n",
    "\n",
    "    https://noaa-nexrad-level2.s3.amazonaws.com\n",
    "\n",
    "Each volume scan file is its own object in Amazon S3. The basic data format is the following:\n",
    "    /<Year>/<Month>/<Day>/<NEXRAD Station>/<filename>\n",
    "\n",
    "Where:\n",
    "\n",
    "    is the year the data was collected\n",
    "    is the month of the year the data was collected\n",
    "    is the day of the month the data was collected\n",
    "    is the NEXRAD ground station (map of ground stations)\n",
    "    is the name of the file containing the data. \n",
    "These are compressed files (compressed with gzip). The file name has more precise timestamp information.\n",
    "\n",
    "All files in the archive use the same compressed format (.gz). The data file names are, for example, KAKQ20010101_080138.gz. The file naming convention is:\n",
    "\n",
    "    GGGGYYYYMMDD_TTTTTT\n",
    "\n",
    "Where:\n",
    "\n",
    "    GGGG = Ground station ID (map of ground stations) \n",
    "    YYYY = year \n",
    "    MM = month \n",
    "    DD = day \n",
    "    TTTTTT = time when data started to be collected (GMT)\n",
    "\n",
    "Note that the 2015 files have an additional field on the file name. It adds “_V06” to the end of the file name. An example is KABX20150303_001050_V06.gz."
   ]
  },
  {
   "cell_type": "code",
   "execution_count": 5,
   "id": "b16d69a2",
   "metadata": {},
   "outputs": [],
   "source": [
    "my_pref = '2011/05/20/KVNX/'\n",
    "# bucket_list = list(bucket.list(prefix = my_pref))\n",
    "\n",
    "client = boto3.client('s3', config=Config(signature_version=UNSIGNED))\n",
    "object_list = client.list_objects(Bucket=bucket_name, Prefix=my_pref, Delimiter='/')\n",
    "\n",
    "dict = { key: value for key, value in object_list.items() if key=='Contents'}\n",
    "bucket_list = []\n",
    "for key in dict[\"Contents\"]:\n",
    "    keyString = key[\"Key\"]\n",
    "    # print(keyString)\n",
    "    bucket_list.append([keyString])"
   ]
  },
  {
   "cell_type": "code",
   "execution_count": 6,
   "id": "2231cc46",
   "metadata": {},
   "outputs": [],
   "source": [
    "home_dir = os.path.expanduser('~')\n",
    "#bucket_list[0].get_contents_to_filename(os.path.join(home_dir,'nexrad_tempfile'))\n",
    "\n",
    "with open(os.path.join(home_dir,'nexrad_tempfile'), 'wb') as data:\n",
    "    bucket.Object(''.join(bucket_list[0])).download_fileobj(data)"
   ]
  },
  {
   "cell_type": "code",
   "execution_count": 7,
   "id": "6ebf044a",
   "metadata": {},
   "outputs": [],
   "source": [
    "radar = pyart.io.read(os.path.join(home_dir,'nexrad_tempfile'))\n",
    "# print(radar.info())"
   ]
  },
  {
   "cell_type": "code",
   "execution_count": null,
   "id": "927850b7",
   "metadata": {},
   "outputs": [],
   "source": [
    "my_figure = plt.figure(figsize = [10,8])\n",
    "my_display = pyart.graph.RadarDisplay(radar)\n",
    "my_display.plot_ppi('reflectivity', 0, vmin = -12, vmax = 64)"
   ]
  },
  {
   "cell_type": "code",
   "execution_count": 9,
   "id": "713ff4eb",
   "metadata": {},
   "outputs": [],
   "source": [
    "#Helper function for the search\n",
    "def _nearestDate(dates, pivot):\n",
    "    return min(dates, key=lambda x: abs(x - pivot))\n",
    "\n",
    "def get_radar_from_aws(site, datetime_t):\n",
    "    \"\"\"\n",
    "    Get the closest volume of NEXRAD data to a particular datetime.\n",
    "    Parameters\n",
    "    ----------\n",
    "    site : string\n",
    "        four letter radar designation\n",
    "    datetime_t : datetime\n",
    "        desired date time\n",
    "    Returns\n",
    "    -------\n",
    "    radar : Py-ART Radar Object\n",
    "        Radar closest to the queried datetime\n",
    "    \"\"\"\n",
    "\n",
    "    #First create the query string for the bucket knowing\n",
    "    #how NOAA and AWS store the data\n",
    "\n",
    "    my_pref = datetime_t.strftime('%Y/%m/%d/') + site + '/'\n",
    "    # print(my_pref)\n",
    "\n",
    "    #Connect to the bucket\n",
    "\n",
    "    # conn = S3Connection(anon = True)\n",
    "    # bucket = conn.get_bucket('noaa-nexrad-level2')\n",
    "    s3 = boto3.resource('s3', config=Config(signature_version=UNSIGNED))\n",
    "    bucket_name = 'noaa-nexrad-level2'\n",
    "    bucket = s3.Bucket(bucket_name)\n",
    "\n",
    "    #Get a list of files\n",
    "\n",
    "    # bucket_list = list(bucket.list(prefix = my_pref))\n",
    "    client = boto3.client('s3', config=Config(signature_version=UNSIGNED))\n",
    "    object_list = client.list_objects(Bucket=bucket_name, Prefix=my_pref, Delimiter='/')\n",
    "    # print(object_list)\n",
    "    \n",
    "    #we are going to create a list of keys and datetimes to allow easy searching\n",
    "    keys = []\n",
    "    datetimes = []\n",
    "    bucket_list = []\n",
    "        \n",
    "        \n",
    "    dict = { key: value for key, value in object_list.items() if key=='Contents'}\n",
    "    \n",
    "    for key in dict[\"Contents\"]:\n",
    "        keyString = key[\"Key\"]\n",
    "        bucket_list.append([keyString])\n",
    "        if 'gz' in keyString:\n",
    "            endme = keyString[-22:-4]\n",
    "            fmt = '%Y%m%d_%H%M%S_V0'\n",
    "            dt = datetime.strptime(endme, fmt)\n",
    "            datetimes.append(dt)\n",
    "            keys.append(keyString)\n",
    "            \n",
    "        if keyString[-3::] == 'V06':\n",
    "            endme = keyString[-19::]\n",
    "            fmt = '%Y%m%d_%H%M%S_V06'\n",
    "            dt = datetime.strptime(endme, fmt)\n",
    "            datetimes.append(dt)\n",
    "            keys.append(keyString)\n",
    "    \n",
    "    #find the closest available radar to your datetime\n",
    "\n",
    "    closest_datetime = _nearestDate(datetimes, datetime_t)\n",
    "    index = datetimes.index(closest_datetime)\n",
    "\n",
    "    localfile = tempfile.NamedTemporaryFile()\n",
    "    # keys[index].get_contents_to_filename(localfile.name)\n",
    "    for key in bucket_list:\n",
    "        with open(os.path.join(home_dir,localfile.name), 'wb') as data:\n",
    "            bucket.Object(''.join(key)).download_fileobj(data)\n",
    "        \n",
    "    radar = pyart.io.read(localfile.name)\n",
    "    return radar"
   ]
  },
  {
   "cell_type": "code",
   "execution_count": null,
   "id": "cc8ba436",
   "metadata": {},
   "outputs": [],
   "source": [
    "import warnings\n",
    "# there is a float deprecation warning that we'll ignore for now\n",
    "warnings.filterwarnings('ignore')\n",
    "\n",
    "base_date = \"20161006_192700\"\n",
    "fmt = '%Y%m%d_%H%M%S' \n",
    "b_d = datetime.strptime(base_date, fmt)\n",
    "\n",
    "my_radar = get_radar_from_aws('KAMX',b_d )\n",
    "max_lat = 27\n",
    "min_lat = 24\n",
    "min_lon = -81\n",
    "max_lon = -77\n",
    "\n",
    "lal = np.arange(min_lat, max_lat, .5)\n",
    "lol = np.arange(min_lon, max_lon, .5)\n",
    "\n",
    "display = pyart.graph.RadarMapDisplay(my_radar)\n",
    "fig = plt.figure(figsize = [10,8])\n",
    "display.plot_ppi_map('reflectivity', sweep = 0, resolution = '110m',\n",
    "                    vmin = -8, vmax = 64, mask_outside = False,\n",
    "                    cmap = pyart.graph.cm.NWSRef,\n",
    "                    min_lat = min_lat, min_lon = min_lon,\n",
    "                    max_lat = max_lat, max_lon = max_lon,\n",
    "                    lat_lines = lal, lon_lines = lol)"
   ]
  },
  {
   "cell_type": "code",
   "execution_count": null,
   "id": "88f85458",
   "metadata": {},
   "outputs": [],
   "source": []
  }
 ],
 "metadata": {
  "kernelspec": {
   "display_name": "aws_nexrad_smsl:Python",
   "language": "python",
   "name": "conda-env-aws_nexrad_smsl-py"
  },
  "language_info": {
   "codemirror_mode": {
    "name": "ipython",
    "version": 3
   },
   "file_extension": ".py",
   "mimetype": "text/x-python",
   "name": "python",
   "nbconvert_exporter": "python",
   "pygments_lexer": "ipython3",
   "version": "3.10.4"
  }
 },
 "nbformat": 4,
 "nbformat_minor": 5
}
